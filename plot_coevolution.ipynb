{
 "cells": [
  {
   "cell_type": "code",
   "execution_count": 1,
   "id": "9a873501-dfa7-481a-a78e-195ed8c11c78",
   "metadata": {},
   "outputs": [],
   "source": [
    "import numpy as np\n",
    "import pandas as pd\n",
    "import matplotlib.pyplot as plt\n",
    "import gzip\n",
    "\n",
    "import bokeh.plotting\n",
    "from bokeh.models import BasicTicker, PrintfTickFormatter\n",
    "from bokeh.palettes import viridis, RdBu\n",
    "from bokeh.transform import linear_cmap\n",
    "from bokeh.plotting import figure, show, output_file, save\n",
    "\n",
    "from matplotlib.colors import to_hex\n",
    "cmap = plt.colormaps[\"bwr_r\"]\n",
    "bwr_r = [to_hex(cmap(i)) for i in np.linspace(0, 1, 256)]\n",
    "cmap = plt.colormaps[\"gray_r\"]\n",
    "gray = [to_hex(cmap(i)) for i in np.linspace(0, 1, 256)]\n",
    "palette = viridis(256)"
   ]
  },
  {
   "cell_type": "code",
   "execution_count": 2,
   "id": "bd10cf37-b6a2-4c6e-9630-87a27a3e09e9",
   "metadata": {},
   "outputs": [],
   "source": [
    "# Sequence Input\n",
    "CeCSR_seq = 'MQSDNVGRGRGSRGGSRGGSGRGRGRGGYGDSYRPDLETRETHVTYQGKVKYEGGDRHDFNYEKTPTGSYRGSHRDGQEGSRGNRGSFRGGRGGYDRRRDDEESKAENRFGGYNRGANGGNYRGRTGGSGRGGSTQTTTVDPKYNGLILENSAEPKLKGLNSDMNQKQNPRLALNIFGLELSERTIFRHVVQMKLIDRQHNKEYILTTMSARGRGNRATKQKDNFILLDILLKQWAAKKGQQNLPAFAYDGAQSLFTLEGISLMVDIKKEDALEIPELSNFLKDSISFLSGDLEISCEPDLEKPSFVQTELNEWSDPRFYAYLDIVTSQSAIRSERYLSQSKGLYVHTQSLEELRVKWAVAAKGIHKGCRIVGANGPLPILELDPQSTQYYASIPLSQMLQYAFPRDFPPNRIVNPNMKLQRAVKLLLKDLKCNPYYDDKQIWATNTITVSDVDYNAPKDPEFRQKYPNLKFPMLPAVQCGTGPHKRLMPLEYLKVLPYQSIDRRVLEEFELTPRANAPNERWSTLQKHYDQFGFNDQVMKDFGVQICNDPFNNVSEIDGERVLAPSVAYADPVHVDDEKRDWKAQDKKFVTPATIDHLMFVLVAGYTRTWDADCDATKFVAKAFMQRCKDKGMHIGSYSMDQHNGERGSENFLTSVFKNLVTHPNYRDSSFTPFVLFISDDVPNIHECLKFEERMSDIPTQHVLLKNVKKMRDNIEKKSQGGRRAYDLTLDNIVMKANIKCGGLNYTADIPRDLACWNEVSTFVIGMDVAHPDRNAAREGNPSTVGLSCNSAENPYSFIGDFLYTDPRREAIQDEILRKFTDQSVRNFAEIRGFPKKVIIFRDGVSFGEETAALKEVEIIEQTIKTAAKSMGHSDYAPKVLAIVVKKRHHTRFYAKGGHHGNMPINPLPDTSVGGDIAEYGKRQIFIQAFRPVQGTAKVPSFLVIRDDEEVSDEHVAKMVCAVCSLHQLVNSPTSIPTPVYVAHELAKRGTGLYKAYRFKNGELFDDWETLTTQLSYSTLDRLSKVRVV'\n",
    "CeVSRA_seq = 'MPSKKNKKAAAAERSATLSASASQQVAKDEQSAPVVPTPELSRVSVSSNPPTPSAIEKPVPLPVPSKPLFEYEPPAQLEALAKNKPVKVTTNSYELELKPTPVFRYDVSVLKSFDDSTRDPIELAGSKGGDRQRQADLTEIVKVALTLEGLGNLNIFYDGAAMLFTTQKFETKTEKQQAIFMPIPSDHPKLSTSLKESQFGRASGKFHVSIELNSKQSELNTIDLLNERLDSAACPVTQMAQIALSAEAKQNGFIILDGGHELFDQKNTRRTIGKDGVEDMDGVAASIKMAQGNKKTGSAHLVMDYKKKQFFKTGPLKDLIKGINPNQLRSYLKGLRVHTTYSHQSIFIDGISNVPIGEIKLPDGTPLLDDCARVSGKPKSFFDASKPAVQVNQYNKREGRRMVYSFPIENLLVKPNQKLTQNHGEPPRSIKPELRFDLIRKVGESAKLLSPNQTLKSIGIAINPEPIVVEAMTVPKPTILYKDGAFTSPDLLNRTSWDVQARNHQSLKGGFVEPMKINKILILYNSQSYSQASPKEAVVELQSILSKKAKDVGMTIGQIDVEDLNDPDIIGAIENKMTILKTSQVKPIVIYADHTSEGTHSTLKLQERLCEVITQQVALDKSLKRTPGKVTANNLLMKLNLKYGGVNHKVRVDNSISHLWGDTSNTLIISYDVCHSSGKVYKKDEICDEPSCVGFGFNGTACPEAFIGDFHYQLPRHEQVDEHLLKLRARFMLNHYITSRKKYPQQVVILRDGVSEGQHKMVRNEEFQAIKQSIMNVFNEKKAKAPSFALLVVTKRHANRLLIKDQNGYTNVPPLTAIDQTIVKKQGNEVIFVSHCPLNGTAQPIVINTLVNDGIFKTNDQLVQFITALCCAHQKSTNIVSLPESIYAADEYAKRGADLFQSYKLKHRDLPTTTIDDSTQLDYEKITLILCFQTSSFKNKRIA'"
   ]
  },
  {
   "cell_type": "code",
   "execution_count": 11,
   "id": "4f9e15a8-fe96-491a-ade0-5e5a2f5c0a9e",
   "metadata": {},
   "outputs": [],
   "source": [
    "idx = 1\n",
    "name = ['CeCSR-1a', 'CeVSRA-1'][idx]\n",
    "sequence = [CeCSR_seq, CeVSRA_seq][idx]\n",
    "model = '3B'\n",
    "\n",
    "path = f'/home/moon/projects/AgoAnalysis/esm2/{name}_coevolution_esm2_{model}.csv.gz'\n",
    "\n",
    "with gzip.open(path, 'rt') as f:\n",
    "    df = pd.read_csv(f, sep=',', index_col=0)"
   ]
  },
  {
   "cell_type": "code",
   "execution_count": 12,
   "id": "d5775def-a299-463b-9af3-dd1f4e21c632",
   "metadata": {},
   "outputs": [
    {
     "data": {
      "text/html": [
       "<div>\n",
       "<style scoped>\n",
       "    .dataframe tbody tr th:only-of-type {\n",
       "        vertical-align: middle;\n",
       "    }\n",
       "\n",
       "    .dataframe tbody tr th {\n",
       "        vertical-align: top;\n",
       "    }\n",
       "\n",
       "    .dataframe thead th {\n",
       "        text-align: right;\n",
       "    }\n",
       "</style>\n",
       "<table border=\"1\" class=\"dataframe\">\n",
       "  <thead>\n",
       "    <tr style=\"text-align: right;\">\n",
       "      <th></th>\n",
       "      <th>i</th>\n",
       "      <th>j</th>\n",
       "      <th>value</th>\n",
       "    </tr>\n",
       "  </thead>\n",
       "  <tbody>\n",
       "    <tr>\n",
       "      <th>0</th>\n",
       "      <td>1</td>\n",
       "      <td>1</td>\n",
       "      <td>0.000000</td>\n",
       "    </tr>\n",
       "    <tr>\n",
       "      <th>1</th>\n",
       "      <td>1</td>\n",
       "      <td>2</td>\n",
       "      <td>3.502427</td>\n",
       "    </tr>\n",
       "    <tr>\n",
       "      <th>2</th>\n",
       "      <td>1</td>\n",
       "      <td>3</td>\n",
       "      <td>2.872719</td>\n",
       "    </tr>\n",
       "    <tr>\n",
       "      <th>3</th>\n",
       "      <td>1</td>\n",
       "      <td>4</td>\n",
       "      <td>2.078618</td>\n",
       "    </tr>\n",
       "    <tr>\n",
       "      <th>4</th>\n",
       "      <td>1</td>\n",
       "      <td>5</td>\n",
       "      <td>1.944320</td>\n",
       "    </tr>\n",
       "    <tr>\n",
       "      <th>...</th>\n",
       "      <td>...</td>\n",
       "      <td>...</td>\n",
       "      <td>...</td>\n",
       "    </tr>\n",
       "    <tr>\n",
       "      <th>891131</th>\n",
       "      <td>944</td>\n",
       "      <td>940</td>\n",
       "      <td>2.675341</td>\n",
       "    </tr>\n",
       "    <tr>\n",
       "      <th>891132</th>\n",
       "      <td>944</td>\n",
       "      <td>941</td>\n",
       "      <td>3.154880</td>\n",
       "    </tr>\n",
       "    <tr>\n",
       "      <th>891133</th>\n",
       "      <td>944</td>\n",
       "      <td>942</td>\n",
       "      <td>5.030008</td>\n",
       "    </tr>\n",
       "    <tr>\n",
       "      <th>891134</th>\n",
       "      <td>944</td>\n",
       "      <td>943</td>\n",
       "      <td>5.365414</td>\n",
       "    </tr>\n",
       "    <tr>\n",
       "      <th>891135</th>\n",
       "      <td>944</td>\n",
       "      <td>944</td>\n",
       "      <td>0.000000</td>\n",
       "    </tr>\n",
       "  </tbody>\n",
       "</table>\n",
       "<p>891136 rows × 3 columns</p>\n",
       "</div>"
      ],
      "text/plain": [
       "          i    j     value\n",
       "0         1    1  0.000000\n",
       "1         1    2  3.502427\n",
       "2         1    3  2.872719\n",
       "3         1    4  2.078618\n",
       "4         1    5  1.944320\n",
       "...     ...  ...       ...\n",
       "891131  944  940  2.675341\n",
       "891132  944  941  3.154880\n",
       "891133  944  942  5.030008\n",
       "891134  944  943  5.365414\n",
       "891135  944  944  0.000000\n",
       "\n",
       "[891136 rows x 3 columns]"
      ]
     },
     "execution_count": 12,
     "metadata": {},
     "output_type": "execute_result"
    }
   ],
   "source": [
    "df"
   ]
  },
  {
   "cell_type": "code",
   "execution_count": 13,
   "id": "a43317a8-e5ab-4278-a312-fc54080e8f9f",
   "metadata": {},
   "outputs": [],
   "source": [
    "TOOLS = \"hover,save,pan,box_zoom,reset,wheel_zoom\"\n",
    "p = figure(title=\"COEVOLUTION\",\n",
    "          x_range=[str(x) for x in range(1,len(sequence)+1)],\n",
    "          y_range=[str(x) for x in range(1,len(sequence)+1)][::-1],\n",
    "          width=800, height=800,\n",
    "          tools=TOOLS, toolbar_location='below',\n",
    "          tooltips=[('i', '@i'), ('j', '@j'), ('value', '@value')])\n",
    "\n",
    "r = p.rect(x=\"i\", y=\"j\", width=1, height=1, source=df,\n",
    "          fill_color=linear_cmap('value', palette, low=df.value.min(), high=df.value.max()),\n",
    "          line_color=None)\n",
    "p.xaxis.visible = False  # Hide the x-axis\n",
    "p.yaxis.visible = False  # Hide the x-axis\n",
    "# show(p)"
   ]
  },
  {
   "cell_type": "code",
   "execution_count": 14,
   "id": "6dcf54a1-2a75-4481-9908-379293c84e8f",
   "metadata": {},
   "outputs": [
    {
     "data": {
      "text/plain": [
       "'/home/moon/projects/AgoAnalysis/esm2/CeVSRA-1_coevolution_3B_color.html'"
      ]
     },
     "execution_count": 14,
     "metadata": {},
     "output_type": "execute_result"
    }
   ],
   "source": [
    "output_file(f\"/home/moon/projects/AgoAnalysis/esm2/{name}_coevolution_{model}_color.html\")\n",
    "save(p)"
   ]
  }
 ],
 "metadata": {
  "kernelspec": {
   "display_name": "Python 3 (ipykernel)",
   "language": "python",
   "name": "python3"
  },
  "language_info": {
   "codemirror_mode": {
    "name": "ipython",
    "version": 3
   },
   "file_extension": ".py",
   "mimetype": "text/x-python",
   "name": "python",
   "nbconvert_exporter": "python",
   "pygments_lexer": "ipython3",
   "version": "3.11.7"
  }
 },
 "nbformat": 4,
 "nbformat_minor": 5
}
