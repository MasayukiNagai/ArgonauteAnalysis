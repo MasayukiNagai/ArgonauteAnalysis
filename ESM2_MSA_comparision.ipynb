{
 "cells": [
  {
   "cell_type": "markdown",
   "id": "4c4eaf01-78fb-4bd7-8a3f-bf7880a10b7b",
   "metadata": {},
   "source": [
    "#  ESM2 MSA Comparison "
   ]
  },
  {
   "cell_type": "code",
   "execution_count": 1,
   "id": "90686e83-8d69-4e24-a1ef-0fda82d4d39e",
   "metadata": {},
   "outputs": [],
   "source": [
    "import os\n",
    "import gzip\n",
    "import numpy as np\n",
    "import pandas as pd\n",
    "import torch\n",
    "from Bio import AlignIO\n",
    "\n",
    "pd.set_option('display.max_columns', 100)\n",
    "\n",
    "id2aa = {0: 'A', 1: 'C', 2: 'D', 3: 'E', 4: 'F', \n",
    "         5: 'G', 6: 'H', 7: 'I', 8: 'K', 9: 'L', \n",
    "         10: 'M', 11: 'N', 12: 'P', 13: 'Q', 14: 'R', \n",
    "         15: 'S', 16: 'T', 17: 'V', 18: 'W', 19: 'Y', \n",
    "         20: 'X', 21: 'Z', 22: '-', 23: 'B'}\n",
    "aa2id = {'A': 0, 'C': 1, 'D': 2, 'E': 3, 'F': 4, \n",
    "         'G': 5, 'H': 6, 'I': 7, 'K': 8, 'L': 9, \n",
    "         'M': 10, 'N': 11, 'P': 12, 'Q': 13, 'R': 14, \n",
    "         'S': 15, 'T': 16, 'V': 17, 'W': 18, 'Y': 19, \n",
    "         'X':20, 'Z': 21, '-': 22, 'B': 23}"
   ]
  },
  {
   "cell_type": "code",
   "execution_count": 2,
   "id": "90be8b11-0a27-4b3b-a75f-9fe80ca8f660",
   "metadata": {},
   "outputs": [],
   "source": [
    "def read_esm2_conservation(esm2_conservation_path):\n",
    "    with gzip.open(esm2_conservation_path, 'rt') as f:\n",
    "        esm2_df = pd.read_csv(f, sep=',', index_col=0)\n",
    "    esm2_pivot_df = esm2_df.pivot(index='Position', columns='Amino Acid', values='Probability')\n",
    "    esm2_pivot_df.reset_index(drop=True, inplace=True)\n",
    "    esm2_array = esm2_pivot_df.to_numpy()\n",
    "    return esm2_array\n",
    "\n",
    "\n",
    "def read_msa(msa_path):\n",
    "    with open(msa_path, 'r') as f:\n",
    "        msa = AlignIO.read(f, 'fasta')\n",
    "    msa_matrix = np.zeros((len(msa), msa.get_alignment_length()), dtype=int)\n",
    "    record_ids = []\n",
    "    for i, record in enumerate(msa):\n",
    "        record_ids.append(record.id)\n",
    "        msa_matrix[i, :] = numeric_encode(str(record.seq))\n",
    "    return msa_matrix, record_ids\n",
    "\n",
    "\n",
    "def numeric_encode(seq):\n",
    "    seq_numeric = np.array(\n",
    "        [aa2id[aa] for aa in str(seq).upper().replace(\".\", \"-\")]\n",
    "    )\n",
    "    return torch.from_numpy(seq_numeric)\n",
    "\n",
    "\n",
    "def make_esm2_msa_df(msa_matrix, esm2_array, index):\n",
    "    original_positions = np.full(msa_matrix.shape[1], np.nan)\n",
    "    msa_positions = np.where(msa_matrix[index, :] < 20)[0]\n",
    "    for i, pos in enumerate(msa_positions):\n",
    "        original_positions[pos] = i + 1\n",
    "    esm2_AA_highest = np.full(msa_matrix.shape[1], np.nan)\n",
    "    for i, pos in enumerate(msa_positions):\n",
    "        esm2_AA_highest[pos] = np.argmax(esm2_array, axis=1)[i]    \n",
    "    conservation_score = np.full(msa_matrix.shape[1], np.nan)\n",
    "    for i, pos in enumerate(msa_positions):\n",
    "        conservation_score[pos] = esm2_array.max(axis=1)[i]\n",
    "\n",
    "    df = pd.DataFrame(msa_matrix.T, columns=names)\n",
    "    df['msa_pos'] = list(range(1, len(msa_matrix.T)+1))\n",
    "    df['pos'] = original_positions\n",
    "    df['AA'] = df[target].map(lambda x: id2aa[int(x)])\n",
    "    df['esm2_AA'] = [id2aa[int(aa_i)] if not np.isnan(aa_i) else np.nan for aa_i in esm2_AA_highest]\n",
    "    df['conservation_score'] = conservation_score\n",
    "    df['conservation_score'] = df['conservation_score'].map(lambda x: '{:.3f}'.format(x) if not np.isnan(x) else x)\n",
    "    df['count'] = df.apply(lambda row: np.sum(row[names] == row[target]) if row[target] < 20 else np.nan, axis=1)\n",
    "    name_order = ago_names + piwi_names + wago_names\n",
    "    for name in name_order:\n",
    "        df[name] = df[name].map(lambda x: id2aa[int(x)])\n",
    "    df = df[['msa_pos', 'pos', 'AA', 'esm2_AA', 'conservation_score', 'count']  + name_order]\n",
    "    return df"
   ]
  },
  {
   "cell_type": "code",
   "execution_count": 3,
   "id": "cd36894f-1e12-4875-9a49-2d534e0eca9f",
   "metadata": {},
   "outputs": [],
   "source": [
    "# Pre-define fasta id to common names for readability (optional)\n",
    "\n",
    "id2name = {\n",
    "    'sp|O61931|ERGO1_CAEEL': 'CeERGO-1', 'sp|Q8CJG0|AGO2_MOUSE': 'MmAgo2', 'sp|Q9QZ81|AGO2_RAT': 'RnAgo2', \n",
    "    'tr|G5EEH0|G5EEH0_CAEEL': 'CeRDE-1', 'tr|A0A8V0Y222|A0A8V0Y222_CHICK': 'GgAgo2', 'tr|G5EES3|G5EES3_CAEEL': 'CeALG-1', \n",
    "    'sp|Q9H9G7|AGO3_HUMAN': 'HsAgo3', 'sp|Q9UKV8|AGO2_HUMAN': 'HsAgo2', 'tr|O16720|O16720_CAEEL': 'CeALG-2', \n",
    "    'sp|Q9UL18|AGO1_HUMAN': 'HsAgo1', 'tr|Q32KD4|Q32KD4_DROME': 'DmAgo1', 'tr|G5EC94|G5EC94_CAEEL': 'CeALG-3', \n",
    "    'sp|Q9HCK5|AGO4_HUMAN': 'HsAgo4', 'sp|P34681|TAG76_CAEEL': 'CeALG-4', 'tr|Q9XVI3|Q9XVI3_CAEEL': 'CeALG-5', \n",
    "    'sp|Q746M7|AGO_THET2': 'TtAgo', 'sp|Q9SHF3|AGO2_ARATH': 'AtAgo', 'tr|A0A8U0S055|A0A8U0S055_MUSPF': 'MputfAgo2',\n",
    "    'sp|Q7Z3Z4|PIWL4_HUMAN': 'HsPIWIL4', 'tr|P90786|P90786_CAEEL': 'CePRG-1', 'sp|Q96J94|PIWL1_HUMAN': 'HsPIWIL1', \n",
    "    'sp|Q8TC59|PIWL2_HUMAN': 'HsPIWIL2', 'sp|Q7Z3Z3|PIWL3_HUMAN': 'HsPIWIL3', 'sp|Q9VKM1|PIWI_DROME': 'DmPIWI', \n",
    "    'sp|A8D8P8|SIWI_BOMMO': 'BmSIWI',\n",
    "    'tr|A0A0U1RML5|A0A0U1RML5_CAEEL': 'CeSAGO-2', 'tr|A0A0T7CIX3|A0A0T7CIX3_CAEEL': 'CeSAGO-1', 'tr|A8XRG0|A8XRG0_CAEBR': 'CbrCSR',\n",
    "    'sp|Q09249|YQ53_CAEEL': 'CeHRDE-1', 'tr|Q9XVF1|Q9XVF1_CAEEL': 'CeVSRA-1', 'tr|Q9TXN7|Q9TXN7_CAEEL': 'CeWAGO-10', \n",
    "    'tr|E3M6J3|E3M6J3_CAERE': 'CreCSR', 'tr|H2KZD5|H2KZD5_CAEEL': 'CeCSR-1a', 'sp|Q21691|NRDE3_CAEEL': 'CeNRDE-3', \n",
    "    'tr|A0A2G5U890|A0A2G5U890_9PELO': 'CniCSR', 'tr|A8WQA0|A8WQA0_CAEBR': 'CbrHRDE-1', 'tr|Q86NJ8|Q86NJ8_CAEEL': 'CePPW-1', \n",
    "    'tr|Q9N585|Q9N585_CAEEL': 'CePPW-2', 'sp|Q21770|WAGO1_CAEEL': 'CeWAGO-1', 'sp|O62275|WAGO4_CAEEL': 'CeWAGO-4'}\n",
    "\n",
    "ago_names = ['AtAgo', 'CeALG-1', 'CeALG-2', 'CeALG-3', 'CeALG-4', \n",
    "             'CeALG-5', 'CeERGO-1', 'CeRDE-1', 'DmAgo1', 'GgAgo2', \n",
    "             'HsAgo1', 'HsAgo2', 'HsAgo3', 'HsAgo4', 'MmAgo2', \n",
    "             'MputfAgo2', 'RnAgo2', 'TtAgo']\n",
    "piwi_names = ['BmSIWI', 'CePRG-1', 'DmPIWI', 'HsPIWIL1', 'HsPIWIL2', \n",
    "              'HsPIWIL3', 'HsPIWIL4']\n",
    "wago_names = ['CbrCSR', 'CbrHRDE-1', 'CeCSR-1a', 'CeHRDE-1', 'CeNRDE-3', \n",
    "              'CePPW-1', 'CePPW-2', 'CeSAGO-1', 'CeSAGO-2', 'CeVSRA-1', \n",
    "              'CeWAGO-1', 'CeWAGO-10', 'CeWAGO-4', 'CniCSR', 'CreCSR']"
   ]
  },
  {
   "cell_type": "markdown",
   "id": "ea613bfb-94a6-474d-8adc-982ccc210e10",
   "metadata": {},
   "source": [
    "# Execution (single run)"
   ]
  },
  {
   "cell_type": "code",
   "execution_count": 4,
   "id": "43a41aa2-8994-4fe2-b5aa-d72f301b82bd",
   "metadata": {},
   "outputs": [],
   "source": [
    "# Specifiy your input\n",
    "\n",
    "target = 'CeVSRA-1'\n",
    "esm2_conservation_path = f'/home/moon/projects/AgoAnalysis/esm2/{target}/{target}_conservation_esm2_t36_3B_UR50D.csv.gz'\n",
    "\n",
    "msa_path = f'/home/moon/projects/AgoAnalysis/msa/Argonaute_all.msa.fasta'"
   ]
  },
  {
   "cell_type": "code",
   "execution_count": 5,
   "id": "c20c94f9-610b-4b51-97ed-da0258cc971f",
   "metadata": {},
   "outputs": [],
   "source": [
    "# Load msa into a matrix\n",
    "msa_matrix, record_ids = read_msa(msa_path)\n",
    "# Convert fasta id to a common name (optional)\n",
    "names = [id2name[record_id] for record_id in record_ids]\n",
    "# Load esm2 conservation data into an 2D array\n",
    "esm2_array = read_esm2_conservation(esm2_conservation_path)\n",
    "\n",
    "# Get an index for your target protein\n",
    "index = names.index(target)\n",
    "\n",
    "# Generate a dataframe that integrates esm2 & msa info\n",
    "esm2_msa_df = make_esm2_msa_df(msa_matrix, esm2_array, index)\n",
    "\n",
    "# Save the dataframe into a csv\n",
    "outpath = f'/home/moon/projects/AgoAnalysis/esm2/{target}/esm2-conservation_msa_comparison_{target}.csv'\n",
    "esm2_msa_df.to_csv(outpath, index=False)"
   ]
  },
  {
   "cell_type": "markdown",
   "id": "d20efe55-f4fc-49af-aabe-41887707d30b",
   "metadata": {},
   "source": [
    "# Execution (multiple runs)"
   ]
  },
  {
   "cell_type": "code",
   "execution_count": 6,
   "id": "aeb0db63-3297-4bef-93b6-33f591f62284",
   "metadata": {},
   "outputs": [],
   "source": [
    "# Specify one msa input and multiple targets\n",
    "msa_path = f'/home/moon/projects/AgoAnalysis/msa/Argonaute_all.msa.fasta'\n",
    "targets = ago_names + piwi_names + wago_names"
   ]
  },
  {
   "cell_type": "code",
   "execution_count": 9,
   "id": "61310b07-561f-4b66-8f37-2286092aaaf9",
   "metadata": {},
   "outputs": [
    {
     "name": "stdout",
     "output_type": "stream",
     "text": [
      "AtAgo is being processed.\n",
      "CeALG-1 is being processed.\n",
      "CeALG-2 is being processed.\n",
      "CeALG-3 does not have ESM2 conservation data. Skipping.\n",
      "CeALG-4 does not have ESM2 conservation data. Skipping.\n",
      "CeALG-5 does not have ESM2 conservation data. Skipping.\n",
      "CeERGO-1 does not have ESM2 conservation data. Skipping.\n",
      "CeRDE-1 does not have ESM2 conservation data. Skipping.\n",
      "DmAgo1 does not have ESM2 conservation data. Skipping.\n",
      "GgAgo2 does not have ESM2 conservation data. Skipping.\n",
      "HsAgo1 is being processed.\n",
      "HsAgo2 is being processed.\n",
      "HsAgo3 does not have ESM2 conservation data. Skipping.\n",
      "HsAgo4 does not have ESM2 conservation data. Skipping.\n",
      "MmAgo2 does not have ESM2 conservation data. Skipping.\n",
      "MputfAgo2 does not have ESM2 conservation data. Skipping.\n",
      "RnAgo2 does not have ESM2 conservation data. Skipping.\n",
      "TtAgo is being processed.\n",
      "BmSIWI is being processed.\n",
      "CePRG-1 is being processed.\n",
      "DmPIWI is being processed.\n",
      "HsPIWIL1 does not have ESM2 conservation data. Skipping.\n",
      "HsPIWIL2 is being processed.\n",
      "HsPIWIL3 does not have ESM2 conservation data. Skipping.\n",
      "HsPIWIL4 does not have ESM2 conservation data. Skipping.\n",
      "CbrCSR does not have ESM2 conservation data. Skipping.\n",
      "CbrHRDE-1 does not have ESM2 conservation data. Skipping.\n",
      "CeCSR-1a is being processed.\n",
      "CeHRDE-1 is being processed.\n",
      "CeNRDE-3 does not have ESM2 conservation data. Skipping.\n",
      "CePPW-1 does not have ESM2 conservation data. Skipping.\n",
      "CePPW-2 does not have ESM2 conservation data. Skipping.\n",
      "CeSAGO-1 is being processed.\n",
      "CeSAGO-2 does not have ESM2 conservation data. Skipping.\n",
      "CeVSRA-1 is being processed.\n",
      "CeWAGO-1 does not have ESM2 conservation data. Skipping.\n",
      "CeWAGO-10 does not have ESM2 conservation data. Skipping.\n",
      "CeWAGO-4 does not have ESM2 conservation data. Skipping.\n",
      "CniCSR does not have ESM2 conservation data. Skipping.\n",
      "CreCSR does not have ESM2 conservation data. Skipping.\n"
     ]
    }
   ],
   "source": [
    "msa_matrix, record_ids = read_msa(msa_path)\n",
    "names = [id2name[record_id] for record_id in record_ids]\n",
    "\n",
    "for target in targets:\n",
    "    esm2_conservation_path = f'/home/moon/projects/AgoAnalysis/esm2/{target}/{target}_conservation_esm2_t36_3B_UR50D.csv.gz'\n",
    "    if not os.path.exists(esm2_conservation_path):\n",
    "        print(f'{target} does not have ESM2 conservation data. Skipping.')\n",
    "        continue\n",
    "    else:\n",
    "        print(f'{target} is being processed.')\n",
    "\n",
    "    esm2_array = read_esm2_conservation(esm2_conservation_path)\n",
    "    index = names.index(target)\n",
    "    esm2_msa_df = make_esm2_msa_df(msa_matrix, esm2_array, index)\n",
    "    outpath = f'/home/moon/projects/AgoAnalysis/esm2/{target}/esm2-conservation_msa_comparison_{target}.csv'\n",
    "    esm2_msa_df.to_csv(outpath, index=False)"
   ]
  }
 ],
 "metadata": {
  "kernelspec": {
   "display_name": "Python 3 (ipykernel)",
   "language": "python",
   "name": "python3"
  },
  "language_info": {
   "codemirror_mode": {
    "name": "ipython",
    "version": 3
   },
   "file_extension": ".py",
   "mimetype": "text/x-python",
   "name": "python",
   "nbconvert_exporter": "python",
   "pygments_lexer": "ipython3",
   "version": "3.11.7"
  }
 },
 "nbformat": 4,
 "nbformat_minor": 5
}
