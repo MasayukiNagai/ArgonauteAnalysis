{
 "cells": [
  {
   "cell_type": "code",
   "execution_count": 1,
   "id": "9a873501-dfa7-481a-a78e-195ed8c11c78",
   "metadata": {},
   "outputs": [],
   "source": [
    "import numpy as np\n",
    "import pandas as pd\n",
    "import matplotlib.pyplot as plt\n",
    "import os\n",
    "import gzip\n",
    "from Bio import SeqIO\n",
    "from logomaker import transform_matrix\n",
    "from pssm_analysis import plot_logomaker \n",
    "\n",
    "pd.set_option('display.max_columns', 100)\n",
    "\n",
    "AA_ALPHABETS = \"ACDEFGHIKLMNPQRSTVWY-\"\n",
    "id2aa = {0: 'A', 1: 'C', 2: 'D', 3: 'E', 4: 'F', 5: 'G', \n",
    "         6: 'H', 7: 'I', 8: 'K', 9: 'L', 10: 'M', \n",
    "         11: 'N', 12: 'P', 13: 'Q', 14: 'R', 15: 'S', \n",
    "         16: 'T', 17: 'V', 18: 'W', 19: 'Y', \n",
    "         20: 'X', 21: 'Z', 22: '-', 23: 'B'}"
   ]
  },
  {
   "cell_type": "code",
   "execution_count": null,
   "id": "bd10cf37-b6a2-4c6e-9630-87a27a3e09e9",
   "metadata": {},
   "outputs": [],
   "source": [
    "### Specify the sequence and the ESM2 model used \n",
    "name = 'CeVSRA-1'\n",
    "gene_id = 'Q9XVF1'\n",
    "model = 'esm2_t36_3B_UR50D'"
   ]
  },
  {
   "cell_type": "markdown",
   "id": "087e3d1e-9079-4821-b364-30701091295e",
   "metadata": {},
   "source": [
    "# Conservation"
   ]
  },
  {
   "cell_type": "code",
   "execution_count": null,
   "id": "a00c9e78-9daf-4e11-8d4d-30a0102e6435",
   "metadata": {},
   "outputs": [],
   "source": [
    "esm2_conservation_path = f'/home/moon/projects/AgoAnalysis/esm2/{name}/{name}_conservation_{model}.csv.gz'\n",
    "\n",
    "with gzip.open(esm2_conservation_path, 'rt') as f:\n",
    "    esm2_df = pd.read_csv(f, sep=',', index_col=0)\n",
    "\n",
    "esm2_pivot_df = esm2_df.pivot(index='Position', columns='Amino Acid', values='Probability')\n",
    "esm2_pivot_df.reset_index(drop=True, inplace=True)\n",
    "esm2_pivot_df.index = esm2_pivot_df.index + 1  # Convert from 0-index to 1-index\n",
    "\n",
    "# background_dict = {aa: 1/20 for aa in AA_ALPHABETS}\n",
    "background_vals = np.array([1/20]*20)\n",
    "esm2_ic_df = transform_matrix(esm2_pivot_df, from_type='probability', to_type='information', background=background_vals)"
   ]
  },
  {
   "cell_type": "code",
   "execution_count": null,
   "id": "89073ece-a2f8-4499-bb06-f67dc808b278",
   "metadata": {},
   "outputs": [],
   "source": [
    "title = f'Probabilities in ESM2 Conservation of {name}'\n",
    "plot_logomaker(esm2_pivot_df.iloc[:, 0:20], title=title, ylim=1, color_name='charge')\n",
    "plt.savefig(f'/home/moon/projects/AgoAnalysis/esm2/{name}/{name}.{model}.pssm_logo.png')\n",
    "plt.show()"
   ]
  },
  {
   "cell_type": "code",
   "execution_count": null,
   "id": "9b9ec44f-9d94-4cce-af0b-28f7e1c5ad0a",
   "metadata": {},
   "outputs": [],
   "source": [
    "title = f'Information Content in ESM2 Conservation of {name}'\n",
    "plot_logomaker(esm2_ic_df.iloc[:, 0:20], title=title, color_name='charge')\n",
    "# plt.savefig(f'/home/moon/projects/AgoAnalysis/esm2/{name}/{name}.{model}.info_logo.pdf')\n",
    "plt.show()"
   ]
  },
  {
   "cell_type": "code",
   "execution_count": null,
   "id": "0e6b646f-5b09-4b53-96d0-176724963d1e",
   "metadata": {},
   "outputs": [],
   "source": []
  },
  {
   "cell_type": "code",
   "execution_count": null,
   "id": "25142ab8-22af-46bd-8b6e-e3e9f5540345",
   "metadata": {
    "scrolled": true
   },
   "outputs": [],
   "source": [
    "### Loop through all the proteins\n",
    "model = 'esm2_t36_3B_UR50D'\n",
    "names = ['CeVSRA-1', 'CeHRDE-1', 'CePRG-1', 'HsAgo2', 'HsPIWIL2', \n",
    "         'CeCSR-1a', 'MIWI', 'BmSIWI', 'AtAgo', 'CeALG-2', \n",
    "         'TtAgo', 'CeALG-1', 'DmPIWI', 'CeSAGO-1', 'PfAgo', 'HsAgo1']\n",
    "\n",
    "background_vals = np.array([1/20]*20)\n",
    "\n",
    "for name in names:\n",
    "    outfile = f'/home/moon/projects/AgoAnalysis/esm2/{name}/{name}.{model}.info_logo.pdf'\n",
    "    if os.path.exists(outfile):\n",
    "        continue \n",
    "\n",
    "    esm2_conservation_path = f'/home/moon/projects/AgoAnalysis/esm2/{name}/{name}_conservation_{model}.csv.gz'\n",
    "    with gzip.open(esm2_conservation_path, 'rt') as f:\n",
    "        esm2_df = pd.read_csv(f, sep=',', index_col=0)\n",
    "    \n",
    "    esm2_pivot_df = esm2_df.pivot(index='Position', columns='Amino Acid', values='Probability')\n",
    "    esm2_pivot_df.reset_index(drop=True, inplace=True)\n",
    "    esm2_pivot_df.index = esm2_pivot_df.index + 1  # Convert from 0-index to 1-index    \n",
    "    esm2_ic_df = transform_matrix(esm2_pivot_df, from_type='probability', to_type='information', background=background_vals)\n",
    "\n",
    "    title = f'Information Content in ESM2 Conservation of {name}'\n",
    "    plot_logomaker(esm2_ic_df.iloc[:, 0:20], title=title, color_name='charge')\n",
    "    plt.savefig(outfile)"
   ]
  },
  {
   "cell_type": "markdown",
   "id": "9e14cbcb-6fdd-4f22-90e5-19e81844d30e",
   "metadata": {},
   "source": [
    "## Conservation - MSA"
   ]
  },
  {
   "cell_type": "code",
   "execution_count": 33,
   "id": "37631c7b-440c-4a76-a779-06146d468e88",
   "metadata": {},
   "outputs": [],
   "source": [
    "ago_id2name = {'sp|O61931|ERGO1_CAEEL': 'CeERGO-1', 'sp|Q8CJG0|AGO2_MOUSE': 'MmAgo2', 'sp|Q9QZ81|AGO2_RAT': 'RnAgo2', 'tr|G5EEH0|G5EEH0_CAEEL': 'CeRDE-1', 'tr|A0A8V0Y222|A0A8V0Y222_CHICK': 'GgAgo2', 'tr|G5EES3|G5EES3_CAEEL': 'CeALG-1', 'sp|Q9H9G7|AGO3_HUMAN': 'HsAgo3', 'sp|Q9UKV8|AGO2_HUMAN': 'HsAgo2', 'tr|O16720|O16720_CAEEL': 'CeALG-2', 'sp|Q9UL18|AGO1_HUMAN': 'HsAgo1', 'tr|Q32KD4|Q32KD4_DROME': 'DmAgo1', 'tr|G5EC94|G5EC94_CAEEL': 'CeALG-3', 'sp|Q9HCK5|AGO4_HUMAN': 'HsAgo4', 'sp|P34681|TAG76_CAEEL': 'CeALG-4', 'tr|Q9XVI3|Q9XVI3_CAEEL': 'CeALG-5', 'sp|Q746M7|AGO_THET2': 'TtAgo', 'sp|Q9SHF3|AGO2_ARATH': 'AtAgo', 'tr|A0A8U0S055|A0A8U0S055_MUSPF': 'MputfAgo2'}\n",
    "wago_id2name = {'tr|A0A0U1RML5|A0A0U1RML5_CAEEL': 'CeSAGO-2', 'tr|A0A0T7CIX3|A0A0T7CIX3_CAEEL': 'CeSAGO-1', 'tr|A8XRG0|A8XRG0_CAEBR': 'CbrCSR', 'sp|Q09249|YQ53_CAEEL': 'CeHRDE-1', 'tr|Q9XVF1|Q9XVF1_CAEEL': 'CeVSRA-1', 'tr|Q9TXN7|Q9TXN7_CAEEL': 'CeWAGO-10', 'tr|E3M6J3|E3M6J3_CAERE': 'CreCSR', 'tr|H2KZD5|H2KZD5_CAEEL': 'CeCSR-1a', 'sp|Q21691|NRDE3_CAEEL': 'CeNRDE-3', 'tr|A0A2G5U890|A0A2G5U890_9PELO': 'CniCSR', 'tr|A8WQA0|A8WQA0_CAEBR': 'CbrHRDE-1', 'tr|Q86NJ8|Q86NJ8_CAEEL': 'CePPW-1', 'tr|Q9N585|Q9N585_CAEEL': 'CePPW-2', 'sp|Q21770|WAGO1_CAEEL': 'CeWAGO-1', 'sp|O62275|WAGO4_CAEEL': 'CeWAGO-4'}\n",
    "piwi_id2name = {'sp|Q7Z3Z4|PIWL4_HUMAN': 'HsPIWIL4', 'tr|P90786|P90786_CAEEL': 'CePRG-1', 'sp|Q96J94|PIWL1_HUMAN': 'HsPIWIL1', 'sp|Q8TC59|PIWL2_HUMAN': 'HsPIWIL2', 'sp|Q7Z3Z3|PIWL3_HUMAN': 'HsPIWIL3', 'sp|Q9VKM1|PIWI_DROME': 'DmPIWI', 'sp|A8D8P8|SIWI_BOMMO': 'BmSIWI'}\n",
    "\n",
    "id2name = {}\n",
    "id2name.update(ago_id2name)\n",
    "id2name.update(wago_id2name)\n",
    "id2name.update(piwi_id2name)"
   ]
  },
  {
   "cell_type": "code",
   "execution_count": 34,
   "id": "7cec86d9-b173-40ec-af26-7d320e5ba444",
   "metadata": {},
   "outputs": [],
   "source": [
    "ago_names = ['AtAgo', 'CeALG-1', 'CeALG-2', 'CeALG-3', 'CeALG-4', \n",
    "             'CeALG-5', 'CeERGO-1', 'CeRDE-1', 'DmAgo1', 'GgAgo2', \n",
    "             'HsAgo1', 'HsAgo2', 'HsAgo3', 'HsAgo4', 'MmAgo2', \n",
    "             'MputfAgo2', 'RnAgo2', 'TtAgo']\n",
    "piwi_names = ['BmSIWI', 'CePRG-1', 'DmPIWI', 'HsPIWIL1', 'HsPIWIL2', \n",
    "              'HsPIWIL3', 'HsPIWIL4']\n",
    "wago_names = ['CbrCSR', 'CbrHRDE-1', 'CeCSR-1a', 'CeHRDE-1', 'CeNRDE-3', \n",
    "              'CePPW-1', 'CePPW-2', 'CeSAGO-1', 'CeSAGO-2', 'CeVSRA-1', \n",
    "              'CeWAGO-1', 'CeWAGO-10', 'CeWAGO-4', 'CniCSR', 'CreCSR']"
   ]
  },
  {
   "cell_type": "code",
   "execution_count": 49,
   "id": "8176bf28-ee71-429a-bd35-99805681dce7",
   "metadata": {},
   "outputs": [],
   "source": [
    "### Load esm2 conservation data\n",
    "\n",
    "from Bio import AlignIO\n",
    "from pssm_analysis import numeric_encode\n",
    "\n",
    "target = 'CeVSRA-1'\n",
    "model = 'esm2_t36_3B_UR50D'\n",
    "\n",
    "esm2_conservation_path = f'/home/moon/projects/AgoAnalysis/esm2/{target}/{target}_conservation_{model}.csv.gz'\n",
    "\n",
    "with gzip.open(esm2_conservation_path, 'rt') as f:\n",
    "    esm2_df = pd.read_csv(f, sep=',', index_col=0)\n",
    "\n",
    "esm2_pivot_df = esm2_df.pivot(index='Position', columns='Amino Acid', values='Probability')\n",
    "esm2_pivot_df.reset_index(drop=True, inplace=True)\n",
    "esm2_array = esm2_pivot_df.to_numpy()"
   ]
  },
  {
   "cell_type": "code",
   "execution_count": 50,
   "id": "f7a384d1-5864-43e5-ae55-3925fb040495",
   "metadata": {},
   "outputs": [],
   "source": [
    "### Load msa.fasta into a matrix\n",
    "\n",
    "msa_path = f'/home/moon/projects/AgoAnalysis/msa/Argonaute_all.msa.fasta'\n",
    "with open(msa_path, 'r') as f:\n",
    "    msa = AlignIO.read(f, 'fasta')\n",
    "\n",
    "msa_matrix = np.zeros((len(msa), msa.get_alignment_length()), dtype=int)\n",
    "# record_ids = []\n",
    "names = []\n",
    "for i, record in enumerate(msa):\n",
    "    tmp = id2name[record.id]\n",
    "    names.append(tmp)\n",
    "    msa_matrix[i, :] = numeric_encode(str(record.seq))"
   ]
  },
  {
   "cell_type": "code",
   "execution_count": 51,
   "id": "cc70b822-3996-4405-bb23-bb0c9e315357",
   "metadata": {
    "scrolled": true
   },
   "outputs": [],
   "source": [
    "### Get the corresponding index + original -> msa position mapping\n",
    "\n",
    "index = names.index(target)\n",
    "msa_positions = np.where(msa_matrix[index, :] < 20)[0]\n",
    "# msa_pos = msa_positions[895]"
   ]
  },
  {
   "cell_type": "code",
   "execution_count": 52,
   "id": "3e16db48-9ed0-43fd-8abb-bf32ee1bb86c",
   "metadata": {},
   "outputs": [],
   "source": [
    "original_positions = np.full(msa.get_alignment_length(), np.nan)\n",
    "for i, pos in enumerate(msa_positions):\n",
    "    original_positions[pos] = i + 1\n",
    "\n",
    "esm2_AA_highest = np.full(msa.get_alignment_length(), np.nan)\n",
    "for i, pos in enumerate(msa_positions):\n",
    "    esm2_AA_highest[pos] = np.argmax(esm2_array, axis=1)[i]\n",
    "\n",
    "conservation_score = np.full(msa.get_alignment_length(), np.nan)\n",
    "for i, pos in enumerate(msa_positions):\n",
    "    conservation_score[pos] = esm2_array.max(axis=1)[i]"
   ]
  },
  {
   "cell_type": "code",
   "execution_count": 53,
   "id": "5299188f-9c44-46f6-b2d2-898f0eca101d",
   "metadata": {},
   "outputs": [],
   "source": [
    "df = pd.DataFrame(msa_matrix.T, columns=names)\n",
    "df['msa_pos'] = list(range(1, len(msa_matrix.T)+1))\n",
    "df['pos'] = original_positions\n",
    "df['AA'] = df[target].map(lambda x: id2aa[int(x)])\n",
    "df['esm2_AA'] = [id2aa[int(aa_i)] if not np.isnan(aa_i) else np.nan for aa_i in esm2_AA_highest]\n",
    "df['conservation_score'] = conservation_score\n",
    "df['conservation_score'] = df['conservation_score'].map(lambda x: '{:.3f}'.format(x) if not np.isnan(x) else x)\n",
    "df['count'] = df.apply(lambda row: np.sum(row[names] == row[target]) if row[target] < 20 else np.nan, axis=1)\n",
    "name_order = ago_names + piwi_names + wago_names\n",
    "for name in name_order:\n",
    "    df[name] = df[name].map(lambda x: id2aa[int(x)])\n",
    "df = df[['msa_pos', 'pos', 'AA', 'esm2_AA', 'conservation_score', 'count']  + name_order]\n",
    "outpath = f'/home/moon/projects/AgoAnalysis/esm2/{target}/esm2-conservation_msa_comparison_{target}.csv'\n",
    "df.to_csv(outpath, index=False)"
   ]
  },
  {
   "cell_type": "code",
   "execution_count": 56,
   "id": "24c767af-07e5-4503-8d2e-25cdcb910952",
   "metadata": {},
   "outputs": [
    {
     "name": "stdout",
     "output_type": "stream",
     "text": [
      "AtAgo is being processed.\n",
      "CeALG-1 is being processed.\n",
      "CeALG-2 is being processed.\n",
      "CeALG-3 does not have ESM2 conservation data. Skipping.\n",
      "CeALG-4 does not have ESM2 conservation data. Skipping.\n",
      "CeALG-5 does not have ESM2 conservation data. Skipping.\n",
      "CeERGO-1 does not have ESM2 conservation data. Skipping.\n",
      "CeRDE-1 does not have ESM2 conservation data. Skipping.\n",
      "DmAgo1 does not have ESM2 conservation data. Skipping.\n",
      "GgAgo2 does not have ESM2 conservation data. Skipping.\n",
      "HsAgo1 is being processed.\n",
      "HsAgo2 is being processed.\n",
      "HsAgo3 does not have ESM2 conservation data. Skipping.\n",
      "HsAgo4 does not have ESM2 conservation data. Skipping.\n",
      "MmAgo2 does not have ESM2 conservation data. Skipping.\n",
      "MputfAgo2 does not have ESM2 conservation data. Skipping.\n",
      "RnAgo2 does not have ESM2 conservation data. Skipping.\n",
      "TtAgo is being processed.\n",
      "BmSIWI is being processed.\n",
      "CePRG-1 is being processed.\n",
      "DmPIWI is being processed.\n",
      "HsPIWIL1 does not have ESM2 conservation data. Skipping.\n",
      "HsPIWIL2 is being processed.\n",
      "HsPIWIL3 does not have ESM2 conservation data. Skipping.\n",
      "HsPIWIL4 does not have ESM2 conservation data. Skipping.\n",
      "CbrCSR does not have ESM2 conservation data. Skipping.\n",
      "CbrHRDE-1 does not have ESM2 conservation data. Skipping.\n",
      "CeCSR-1a is being processed.\n",
      "CeHRDE-1 is being processed.\n",
      "CeNRDE-3 does not have ESM2 conservation data. Skipping.\n",
      "CePPW-1 does not have ESM2 conservation data. Skipping.\n",
      "CePPW-2 does not have ESM2 conservation data. Skipping.\n",
      "CeSAGO-1 is being processed.\n",
      "CeSAGO-2 does not have ESM2 conservation data. Skipping.\n",
      "CeVSRA-1 is being processed.\n",
      "CeWAGO-1 does not have ESM2 conservation data. Skipping.\n",
      "CeWAGO-10 does not have ESM2 conservation data. Skipping.\n",
      "CeWAGO-4 does not have ESM2 conservation data. Skipping.\n",
      "CniCSR does not have ESM2 conservation data. Skipping.\n",
      "CreCSR does not have ESM2 conservation data. Skipping.\n"
     ]
    }
   ],
   "source": [
    "### Loop through all the Argonaute proteins\n",
    "\n",
    "msa_path = f'/home/moon/projects/AgoAnalysis/msa/Argonaute_all.msa.fasta'\n",
    "with open(msa_path, 'r') as f:\n",
    "    msa = AlignIO.read(f, 'fasta')\n",
    "msa_matrix = np.zeros((len(msa), msa.get_alignment_length()), dtype=int)\n",
    "names = []\n",
    "for i, record in enumerate(msa):\n",
    "    name = id2name[record.id]\n",
    "    names.append(name)\n",
    "    msa_matrix[i, :] = numeric_encode(str(record.seq))\n",
    "\n",
    "model = 'esm2_t36_3B_UR50D'\n",
    "for target in ago_names + piwi_names + wago_names:\n",
    "    esm2_conservation_path = f'/home/moon/projects/AgoAnalysis/esm2/{target}/{target}_conservation_{model}.csv.gz'\n",
    "    if not os.path.exists(esm2_conservation_path):\n",
    "        print(f'{target} does not have ESM2 conservation data. Skipping.')\n",
    "        continue\n",
    "    else:\n",
    "        print(f'{target} is being processed.')\n",
    "    with gzip.open(esm2_conservation_path, 'rt') as f:\n",
    "        esm2_df = pd.read_csv(f, sep=',', index_col=0)\n",
    "    esm2_pivot_df = esm2_df.pivot(index='Position', columns='Amino Acid', values='Probability')\n",
    "    esm2_pivot_df.reset_index(drop=True, inplace=True)\n",
    "    esm2_array = esm2_pivot_df.to_numpy()\n",
    "\n",
    "    index = names.index(target)\n",
    "    msa_positions = np.where(msa_matrix[index, :] < 20)[0]\n",
    "    \n",
    "    original_positions = np.full(msa.get_alignment_length(), np.nan)\n",
    "    for i, pos in enumerate(msa_positions):\n",
    "        original_positions[pos] = i + 1\n",
    "    esm2_AA_highest = np.full(msa.get_alignment_length(), np.nan)\n",
    "    for i, pos in enumerate(msa_positions):\n",
    "        esm2_AA_highest[pos] = np.argmax(esm2_array, axis=1)[i]\n",
    "    conservation_score = np.full(msa.get_alignment_length(), np.nan)\n",
    "    for i, pos in enumerate(msa_positions):\n",
    "        conservation_score[pos] = esm2_array.max(axis=1)[i]\n",
    "\n",
    "    df = pd.DataFrame(msa_matrix.T, columns=names)\n",
    "    df['msa_pos'] = list(range(1, len(msa_matrix.T)+1))\n",
    "    df['pos'] = original_positions\n",
    "    df['AA'] = df[target].map(lambda x: id2aa[int(x)])\n",
    "    df['esm2_AA'] = [id2aa[int(aa_i)] if not np.isnan(aa_i) else np.nan for aa_i in esm2_AA_highest]\n",
    "    df['conservation_score'] = conservation_score\n",
    "    df['conservation_score'] = df['conservation_score'].map(lambda x: '{:.3f}'.format(x) if not np.isnan(x) else x)\n",
    "    df['count'] = df.apply(lambda row: np.sum(row[names] == row[target]) if row[target] < 20 else np.nan, axis=1)\n",
    "    name_order = ago_names + piwi_names + wago_names\n",
    "    for name in name_order:\n",
    "        df[name] = df[name].map(lambda x: id2aa[int(x)])\n",
    "    df = df[['msa_pos', 'pos', 'AA', 'esm2_AA', 'conservation_score', 'count']  + name_order]\n",
    "    outpath = f'/home/moon/projects/AgoAnalysis/esm2/{target}/esm2-conservation_msa_comparison_{target}.csv'\n",
    "    df.to_csv(outpath, index=False)"
   ]
  },
  {
   "cell_type": "markdown",
   "id": "7b565c47-1c89-4630-8f0e-8565c7bbc228",
   "metadata": {},
   "source": [
    "# Coevolution"
   ]
  },
  {
   "cell_type": "code",
   "execution_count": null,
   "id": "1c86a6d9-f773-4313-a3ba-cb2369db297b",
   "metadata": {},
   "outputs": [],
   "source": [
    "import bokeh.plotting\n",
    "from bokeh.models import BasicTicker, PrintfTickFormatter\n",
    "from bokeh.palettes import viridis, RdBu\n",
    "from bokeh.transform import linear_cmap\n",
    "from bokeh.plotting import figure, show, output_file, save\n",
    "\n",
    "from matplotlib.colors import to_hex\n",
    "cmap = plt.colormaps[\"bwr_r\"]\n",
    "bwr_r = [to_hex(cmap(i)) for i in np.linspace(0, 1, 256)]\n",
    "cmap = plt.colormaps[\"gray_r\"]\n",
    "gray = [to_hex(cmap(i)) for i in np.linspace(0, 1, 256)]\n",
    "palette = viridis(256)"
   ]
  },
  {
   "cell_type": "code",
   "execution_count": null,
   "id": "4f9e15a8-fe96-491a-ade0-5e5a2f5c0a9e",
   "metadata": {
    "scrolled": true
   },
   "outputs": [],
   "source": [
    "esm2_coevolution_path = f'/home/moon/projects/AgoAnalysis/esm2/{name}/{name}_coevolution_{model}.csv.gz'\n",
    "\n",
    "with gzip.open(esm2_coevolution_path, 'rt') as f:\n",
    "    df = pd.read_csv(f, sep=',', index_col=0)\n",
    "\n",
    "\n",
    "def get_fasta(infasta):\n",
    "    for record in SeqIO.parse(infasta, \"fasta\"):\n",
    "        return str(record.seq)\n",
    "\n",
    "infasta = f'/home/moon/projects/AgoAnalysis/esm2/{name}/{name}.txt'\n",
    "seq = get_fasta(infasta)"
   ]
  },
  {
   "cell_type": "code",
   "execution_count": null,
   "id": "d5775def-a299-463b-9af3-dd1f4e21c632",
   "metadata": {},
   "outputs": [],
   "source": [
    "df"
   ]
  },
  {
   "cell_type": "code",
   "execution_count": null,
   "id": "a43317a8-e5ab-4278-a312-fc54080e8f9f",
   "metadata": {},
   "outputs": [],
   "source": [
    "TOOLS = \"hover,save,pan,box_zoom,reset,wheel_zoom\"\n",
    "p = figure(title=\"COEVOLUTION\",\n",
    "          x_range=[str(x) for x in range(1,len(seq)+1)],\n",
    "          y_range=[str(x) for x in range(1,len(seq)+1)][::-1],\n",
    "          width=800, height=800,\n",
    "          tools=TOOLS, toolbar_location='below',\n",
    "          tooltips=[('i', '@i'), ('j', '@j'), ('value', '@value')])\n",
    "\n",
    "r = p.rect(x=\"i\", y=\"j\", width=1, height=1, source=df,\n",
    "          fill_color=linear_cmap('value', palette, low=df.value.min(), high=df.value.max()),\n",
    "          line_color=None)\n",
    "p.xaxis.visible = False  # Hide the x-axis\n",
    "p.yaxis.visible = False  # Hide the x-axis\n",
    "# show(p)"
   ]
  },
  {
   "cell_type": "code",
   "execution_count": null,
   "id": "6dcf54a1-2a75-4481-9908-379293c84e8f",
   "metadata": {},
   "outputs": [],
   "source": [
    "output_file(f\"/home/moon/projects/AgoAnalysis/esm2/{name}/{name}_coevolution_{model}_color.html\")\n",
    "save(p)"
   ]
  }
 ],
 "metadata": {
  "kernelspec": {
   "display_name": "Python 3 (ipykernel)",
   "language": "python",
   "name": "python3"
  },
  "language_info": {
   "codemirror_mode": {
    "name": "ipython",
    "version": 3
   },
   "file_extension": ".py",
   "mimetype": "text/x-python",
   "name": "python",
   "nbconvert_exporter": "python",
   "pygments_lexer": "ipython3",
   "version": "3.11.7"
  }
 },
 "nbformat": 4,
 "nbformat_minor": 5
}
