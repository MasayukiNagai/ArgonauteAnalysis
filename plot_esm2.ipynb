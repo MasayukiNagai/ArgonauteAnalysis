{
 "cells": [
  {
   "cell_type": "code",
   "execution_count": 1,
   "id": "9a873501-dfa7-481a-a78e-195ed8c11c78",
   "metadata": {},
   "outputs": [],
   "source": [
    "import numpy as np\n",
    "import pandas as pd\n",
    "import matplotlib.pyplot as plt\n",
    "import os\n",
    "import gzip\n",
    "from Bio import SeqIO\n",
    "from logomaker import transform_matrix\n",
    "from pssm_analysis import plot_logomaker \n",
    "\n",
    "pd.set_option('display.max_columns', 100)\n",
    "\n",
    "AA_ALPHABETS = \"ACDEFGHIKLMNPQRSTVWY-\"\n",
    "id2aa = {0: 'A', 1: 'C', 2: 'D', 3: 'E', 4: 'F', 5: 'G', \n",
    "         6: 'H', 7: 'I', 8: 'K', 9: 'L', 10: 'M', \n",
    "         11: 'N', 12: 'P', 13: 'Q', 14: 'R', 15: 'S', \n",
    "         16: 'T', 17: 'V', 18: 'W', 19: 'Y', \n",
    "         20: 'X', 21: 'Z', 22: '-', 23: 'B'}"
   ]
  },
  {
   "cell_type": "code",
   "execution_count": null,
   "id": "bd10cf37-b6a2-4c6e-9630-87a27a3e09e9",
   "metadata": {},
   "outputs": [],
   "source": [
    "### Specify the sequence and the ESM2 model used \n",
    "name = 'CeVSRA-1'\n",
    "gene_id = 'Q9XVF1'\n",
    "model = 'esm2_t36_3B_UR50D'"
   ]
  },
  {
   "cell_type": "markdown",
   "id": "087e3d1e-9079-4821-b364-30701091295e",
   "metadata": {},
   "source": [
    "# Conservation"
   ]
  },
  {
   "cell_type": "code",
   "execution_count": null,
   "id": "a00c9e78-9daf-4e11-8d4d-30a0102e6435",
   "metadata": {},
   "outputs": [],
   "source": [
    "esm2_conservation_path = f'/home/moon/projects/AgoAnalysis/esm2/{name}/{name}_conservation_{model}.csv.gz'\n",
    "\n",
    "with gzip.open(esm2_conservation_path, 'rt') as f:\n",
    "    esm2_df = pd.read_csv(f, sep=',', index_col=0)\n",
    "\n",
    "esm2_pivot_df = esm2_df.pivot(index='Position', columns='Amino Acid', values='Probability')\n",
    "esm2_pivot_df.reset_index(drop=True, inplace=True)\n",
    "esm2_pivot_df.index = esm2_pivot_df.index + 1  # Convert from 0-index to 1-index\n",
    "\n",
    "# background_dict = {aa: 1/20 for aa in AA_ALPHABETS}\n",
    "background_vals = np.array([1/20]*20)\n",
    "esm2_ic_df = transform_matrix(esm2_pivot_df, from_type='probability', to_type='information', background=background_vals)"
   ]
  },
  {
   "cell_type": "code",
   "execution_count": null,
   "id": "89073ece-a2f8-4499-bb06-f67dc808b278",
   "metadata": {},
   "outputs": [],
   "source": [
    "title = f'Probabilities in ESM2 Conservation of {name}'\n",
    "plot_logomaker(esm2_pivot_df.iloc[:, 0:20], title=title, ylim=1, color_name='charge')\n",
    "plt.savefig(f'/home/moon/projects/AgoAnalysis/esm2/{name}/{name}.{model}.pssm_logo.png')\n",
    "plt.show()"
   ]
  },
  {
   "cell_type": "code",
   "execution_count": null,
   "id": "9b9ec44f-9d94-4cce-af0b-28f7e1c5ad0a",
   "metadata": {},
   "outputs": [],
   "source": [
    "title = f'Information Content in ESM2 Conservation of {name}'\n",
    "plot_logomaker(esm2_ic_df.iloc[:, 0:20], title=title, color_name='charge')\n",
    "# plt.savefig(f'/home/moon/projects/AgoAnalysis/esm2/{name}/{name}.{model}.info_logo.pdf')\n",
    "plt.show()"
   ]
  },
  {
   "cell_type": "code",
   "execution_count": null,
   "id": "0e6b646f-5b09-4b53-96d0-176724963d1e",
   "metadata": {},
   "outputs": [],
   "source": []
  },
  {
   "cell_type": "code",
   "execution_count": null,
   "id": "25142ab8-22af-46bd-8b6e-e3e9f5540345",
   "metadata": {
    "scrolled": true
   },
   "outputs": [],
   "source": [
    "### Loop through all the proteins\n",
    "model = 'esm2_t36_3B_UR50D'\n",
    "names = ['CeVSRA-1', 'CeHRDE-1', 'CePRG-1', 'HsAgo2', 'HsPIWIL2', \n",
    "         'CeCSR-1a', 'MIWI', 'BmSIWI', 'AtAgo', 'CeALG-2', \n",
    "         'TtAgo', 'CeALG-1', 'DmPIWI', 'CeSAGO-1', 'PfAgo', 'HsAgo1']\n",
    "\n",
    "background_vals = np.array([1/20]*20)\n",
    "\n",
    "for name in names:\n",
    "    outfile = f'/home/moon/projects/AgoAnalysis/esm2/{name}/{name}.{model}.info_logo.pdf'\n",
    "    if os.path.exists(outfile):\n",
    "        continue \n",
    "\n",
    "    esm2_conservation_path = f'/home/moon/projects/AgoAnalysis/esm2/{name}/{name}_conservation_{model}.csv.gz'\n",
    "    with gzip.open(esm2_conservation_path, 'rt') as f:\n",
    "        esm2_df = pd.read_csv(f, sep=',', index_col=0)\n",
    "    \n",
    "    esm2_pivot_df = esm2_df.pivot(index='Position', columns='Amino Acid', values='Probability')\n",
    "    esm2_pivot_df.reset_index(drop=True, inplace=True)\n",
    "    esm2_pivot_df.index = esm2_pivot_df.index + 1  # Convert from 0-index to 1-index    \n",
    "    esm2_ic_df = transform_matrix(esm2_pivot_df, from_type='probability', to_type='information', background=background_vals)\n",
    "\n",
    "    title = f'Information Content in ESM2 Conservation of {name}'\n",
    "    plot_logomaker(esm2_ic_df.iloc[:, 0:20], title=title, color_name='charge')\n",
    "    plt.savefig(outfile)"
   ]
  },
  {
   "cell_type": "markdown",
   "id": "7b565c47-1c89-4630-8f0e-8565c7bbc228",
   "metadata": {},
   "source": [
    "# Coevolution"
   ]
  },
  {
   "cell_type": "code",
   "execution_count": null,
   "id": "1c86a6d9-f773-4313-a3ba-cb2369db297b",
   "metadata": {},
   "outputs": [],
   "source": [
    "import bokeh.plotting\n",
    "from bokeh.models import BasicTicker, PrintfTickFormatter\n",
    "from bokeh.palettes import viridis, RdBu\n",
    "from bokeh.transform import linear_cmap\n",
    "from bokeh.plotting import figure, show, output_file, save\n",
    "\n",
    "from matplotlib.colors import to_hex\n",
    "cmap = plt.colormaps[\"bwr_r\"]\n",
    "bwr_r = [to_hex(cmap(i)) for i in np.linspace(0, 1, 256)]\n",
    "cmap = plt.colormaps[\"gray_r\"]\n",
    "gray = [to_hex(cmap(i)) for i in np.linspace(0, 1, 256)]\n",
    "palette = viridis(256)"
   ]
  },
  {
   "cell_type": "code",
   "execution_count": null,
   "id": "4f9e15a8-fe96-491a-ade0-5e5a2f5c0a9e",
   "metadata": {
    "scrolled": true
   },
   "outputs": [],
   "source": [
    "esm2_coevolution_path = f'/home/moon/projects/AgoAnalysis/esm2/{name}/{name}_coevolution_{model}.csv.gz'\n",
    "\n",
    "with gzip.open(esm2_coevolution_path, 'rt') as f:\n",
    "    df = pd.read_csv(f, sep=',', index_col=0)\n",
    "\n",
    "\n",
    "def get_fasta(infasta):\n",
    "    for record in SeqIO.parse(infasta, \"fasta\"):\n",
    "        return str(record.seq)\n",
    "\n",
    "infasta = f'/home/moon/projects/AgoAnalysis/esm2/{name}/{name}.txt'\n",
    "seq = get_fasta(infasta)"
   ]
  },
  {
   "cell_type": "code",
   "execution_count": null,
   "id": "d5775def-a299-463b-9af3-dd1f4e21c632",
   "metadata": {},
   "outputs": [],
   "source": [
    "df"
   ]
  },
  {
   "cell_type": "code",
   "execution_count": null,
   "id": "a43317a8-e5ab-4278-a312-fc54080e8f9f",
   "metadata": {},
   "outputs": [],
   "source": [
    "TOOLS = \"hover,save,pan,box_zoom,reset,wheel_zoom\"\n",
    "p = figure(title=\"COEVOLUTION\",\n",
    "          x_range=[str(x) for x in range(1,len(seq)+1)],\n",
    "          y_range=[str(x) for x in range(1,len(seq)+1)][::-1],\n",
    "          width=800, height=800,\n",
    "          tools=TOOLS, toolbar_location='below',\n",
    "          tooltips=[('i', '@i'), ('j', '@j'), ('value', '@value')])\n",
    "\n",
    "r = p.rect(x=\"i\", y=\"j\", width=1, height=1, source=df,\n",
    "          fill_color=linear_cmap('value', palette, low=df.value.min(), high=df.value.max()),\n",
    "          line_color=None)\n",
    "p.xaxis.visible = False  # Hide the x-axis\n",
    "p.yaxis.visible = False  # Hide the x-axis\n",
    "# show(p)"
   ]
  },
  {
   "cell_type": "code",
   "execution_count": null,
   "id": "6dcf54a1-2a75-4481-9908-379293c84e8f",
   "metadata": {},
   "outputs": [],
   "source": [
    "output_file(f\"/home/moon/projects/AgoAnalysis/esm2/{name}/{name}_coevolution_{model}_color.html\")\n",
    "save(p)"
   ]
  }
 ],
 "metadata": {
  "kernelspec": {
   "display_name": "Python 3 (ipykernel)",
   "language": "python",
   "name": "python3"
  },
  "language_info": {
   "codemirror_mode": {
    "name": "ipython",
    "version": 3
   },
   "file_extension": ".py",
   "mimetype": "text/x-python",
   "name": "python",
   "nbconvert_exporter": "python",
   "pygments_lexer": "ipython3",
   "version": "3.11.7"
  }
 },
 "nbformat": 4,
 "nbformat_minor": 5
}
