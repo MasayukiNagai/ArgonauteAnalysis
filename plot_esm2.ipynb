{
 "cells": [
  {
   "cell_type": "code",
   "execution_count": null,
   "id": "9a873501-dfa7-481a-a78e-195ed8c11c78",
   "metadata": {},
   "outputs": [],
   "source": [
    "import numpy as np\n",
    "import pandas as pd\n",
    "import matplotlib.pyplot as plt\n",
    "import gzip\n",
    "\n",
    "import bokeh.plotting\n",
    "from bokeh.models import BasicTicker, PrintfTickFormatter\n",
    "from bokeh.palettes import viridis, RdBu\n",
    "from bokeh.transform import linear_cmap\n",
    "from bokeh.plotting import figure, show, output_file, save\n",
    "\n",
    "from matplotlib.colors import to_hex\n",
    "cmap = plt.colormaps[\"bwr_r\"]\n",
    "bwr_r = [to_hex(cmap(i)) for i in np.linspace(0, 1, 256)]\n",
    "cmap = plt.colormaps[\"gray_r\"]\n",
    "gray = [to_hex(cmap(i)) for i in np.linspace(0, 1, 256)]\n",
    "palette = viridis(256)"
   ]
  },
  {
   "cell_type": "code",
   "execution_count": null,
   "id": "bd10cf37-b6a2-4c6e-9630-87a27a3e09e9",
   "metadata": {},
   "outputs": [],
   "source": [
    "# Sequence Input\n",
    "CeCSR_seq = 'MQSDNVGRGRGSRGGSRGGSGRGRGRGGYGDSYRPDLETRETHVTYQGKVKYEGGDRHDFNYEKTPTGSYRGSHRDGQEGSRGNRGSFRGGRGGYDRRRDDEESKAENRFGGYNRGANGGNYRGRTGGSGRGGSTQTTTVDPKYNGLILENSAEPKLKGLNSDMNQKQNPRLALNIFGLELSERTIFRHVVQMKLIDRQHNKEYILTTMSARGRGNRATKQKDNFILLDILLKQWAAKKGQQNLPAFAYDGAQSLFTLEGISLMVDIKKEDALEIPELSNFLKDSISFLSGDLEISCEPDLEKPSFVQTELNEWSDPRFYAYLDIVTSQSAIRSERYLSQSKGLYVHTQSLEELRVKWAVAAKGIHKGCRIVGANGPLPILELDPQSTQYYASIPLSQMLQYAFPRDFPPNRIVNPNMKLQRAVKLLLKDLKCNPYYDDKQIWATNTITVSDVDYNAPKDPEFRQKYPNLKFPMLPAVQCGTGPHKRLMPLEYLKVLPYQSIDRRVLEEFELTPRANAPNERWSTLQKHYDQFGFNDQVMKDFGVQICNDPFNNVSEIDGERVLAPSVAYADPVHVDDEKRDWKAQDKKFVTPATIDHLMFVLVAGYTRTWDADCDATKFVAKAFMQRCKDKGMHIGSYSMDQHNGERGSENFLTSVFKNLVTHPNYRDSSFTPFVLFISDDVPNIHECLKFEERMSDIPTQHVLLKNVKKMRDNIEKKSQGGRRAYDLTLDNIVMKANIKCGGLNYTADIPRDLACWNEVSTFVIGMDVAHPDRNAAREGNPSTVGLSCNSAENPYSFIGDFLYTDPRREAIQDEILRKFTDQSVRNFAEIRGFPKKVIIFRDGVSFGEETAALKEVEIIEQTIKTAAKSMGHSDYAPKVLAIVVKKRHHTRFYAKGGHHGNMPINPLPDTSVGGDIAEYGKRQIFIQAFRPVQGTAKVPSFLVIRDDEEVSDEHVAKMVCAVCSLHQLVNSPTSIPTPVYVAHELAKRGTGLYKAYRFKNGELFDDWETLTTQLSYSTLDRLSKVRVV'\n",
    "CeVSRA_seq = 'MPSKKNKKAAAAERSATLSASASQQVAKDEQSAPVVPTPELSRVSVSSNPPTPSAIEKPVPLPVPSKPLFEYEPPAQLEALAKNKPVKVTTNSYELELKPTPVFRYDVSVLKSFDDSTRDPIELAGSKGGDRQRQADLTEIVKVALTLEGLGNLNIFYDGAAMLFTTQKFETKTEKQQAIFMPIPSDHPKLSTSLKESQFGRASGKFHVSIELNSKQSELNTIDLLNERLDSAACPVTQMAQIALSAEAKQNGFIILDGGHELFDQKNTRRTIGKDGVEDMDGVAASIKMAQGNKKTGSAHLVMDYKKKQFFKTGPLKDLIKGINPNQLRSYLKGLRVHTTYSHQSIFIDGISNVPIGEIKLPDGTPLLDDCARVSGKPKSFFDASKPAVQVNQYNKREGRRMVYSFPIENLLVKPNQKLTQNHGEPPRSIKPELRFDLIRKVGESAKLLSPNQTLKSIGIAINPEPIVVEAMTVPKPTILYKDGAFTSPDLLNRTSWDVQARNHQSLKGGFVEPMKINKILILYNSQSYSQASPKEAVVELQSILSKKAKDVGMTIGQIDVEDLNDPDIIGAIENKMTILKTSQVKPIVIYADHTSEGTHSTLKLQERLCEVITQQVALDKSLKRTPGKVTANNLLMKLNLKYGGVNHKVRVDNSISHLWGDTSNTLIISYDVCHSSGKVYKKDEICDEPSCVGFGFNGTACPEAFIGDFHYQLPRHEQVDEHLLKLRARFMLNHYITSRKKYPQQVVILRDGVSEGQHKMVRNEEFQAIKQSIMNVFNEKKAKAPSFALLVVTKRHANRLLIKDQNGYTNVPPLTAIDQTIVKKQGNEVIFVSHCPLNGTAQPIVINTLVNDGIFKTNDQLVQFITALCCAHQKSTNIVSLPESIYAADEYAKRGADLFQSYKLKHRDLPTTTIDDSTQLDYEKITLILCFQTSSFKNKRIA'\n",
    "\n",
    "idx = 1\n",
    "name = ['CeCSR-1a', 'CeVSRA-1', ''][idx]\n",
    "sequence = [CeCSR_seq, CeVSRA_seq][idx]\n",
    "model = '3B'"
   ]
  },
  {
   "cell_type": "markdown",
   "id": "087e3d1e-9079-4821-b364-30701091295e",
   "metadata": {},
   "source": [
    "# Conservation"
   ]
  },
  {
   "cell_type": "code",
   "execution_count": null,
   "id": "a00c9e78-9daf-4e11-8d4d-30a0102e6435",
   "metadata": {},
   "outputs": [],
   "source": [
    "esm2_conservation_path = f'/home/moon/projects/AgoAnalysis/esm2/{name}_conservation_esm2_{model}.csv.gz'\n",
    "\n",
    "with gzip.open(esm2_conservation_path, 'rt') as f:\n",
    "    esm2_df = pd.read_csv(f, sep=',', index_col=0)\n",
    "\n",
    "esm2_pivot_df = esm2_df.pivot(index='Position', columns='Amino Acid', values='Probability')\n",
    "esm2_pivot_df.reset_index(drop=True, inplace=True)\n",
    "\n",
    "background_dict = {aa: 1/20 for aa in AA_ALPHABETS}\n",
    "esm2_ic_df = calc_information_content(esm2_pivot_df, background_dict)"
   ]
  },
  {
   "cell_type": "code",
   "execution_count": null,
   "id": "89073ece-a2f8-4499-bb06-f67dc808b278",
   "metadata": {},
   "outputs": [],
   "source": [
    "title = f'Probabilities in ESM2 Conservation of {name}'\n",
    "plot_logomaker(esm2_pivot_df.iloc[:, 0:20], title=title)\n",
    "plt.savefig(f'/home/moon/projects/AgoAnalysis/esm2/{name}.esm2_{model}.pssm_logo.png')\n",
    "plt.show()"
   ]
  },
  {
   "cell_type": "code",
   "execution_count": null,
   "id": "9b9ec44f-9d94-4cce-af0b-28f7e1c5ad0a",
   "metadata": {},
   "outputs": [],
   "source": [
    "title = f'Information Content in ESM2 Conservation of {name}'\n",
    "plot_logomaker(esm2_ic_df.iloc[:, 0:20], title=title)\n",
    "plt.savefig(f'/home/moon/projects/AgoAnalysis/esm2/{name}.esm2_{model}.info_logo.png')\n",
    "plt.show()"
   ]
  },
  {
   "cell_type": "markdown",
   "id": "7b565c47-1c89-4630-8f0e-8565c7bbc228",
   "metadata": {},
   "source": [
    "# Coevolution"
   ]
  },
  {
   "cell_type": "code",
   "execution_count": null,
   "id": "4f9e15a8-fe96-491a-ade0-5e5a2f5c0a9e",
   "metadata": {
    "scrolled": true
   },
   "outputs": [],
   "source": [
    "esm2_coevolution_path = f'/home/moon/projects/AgoAnalysis/esm2/{name}_coevolution_esm2_{model}.csv.gz'\n",
    "\n",
    "with gzip.open(esm2_coevolution_path, 'rt') as f:\n",
    "    df = pd.read_csv(f, sep=',', index_col=0)"
   ]
  },
  {
   "cell_type": "code",
   "execution_count": null,
   "id": "d5775def-a299-463b-9af3-dd1f4e21c632",
   "metadata": {},
   "outputs": [],
   "source": [
    "df"
   ]
  },
  {
   "cell_type": "code",
   "execution_count": null,
   "id": "a43317a8-e5ab-4278-a312-fc54080e8f9f",
   "metadata": {},
   "outputs": [],
   "source": [
    "TOOLS = \"hover,save,pan,box_zoom,reset,wheel_zoom\"\n",
    "p = figure(title=\"COEVOLUTION\",\n",
    "          x_range=[str(x) for x in range(1,len(sequence)+1)],\n",
    "          y_range=[str(x) for x in range(1,len(sequence)+1)][::-1],\n",
    "          width=800, height=800,\n",
    "          tools=TOOLS, toolbar_location='below',\n",
    "          tooltips=[('i', '@i'), ('j', '@j'), ('value', '@value')])\n",
    "\n",
    "r = p.rect(x=\"i\", y=\"j\", width=1, height=1, source=df,\n",
    "          fill_color=linear_cmap('value', palette, low=df.value.min(), high=df.value.max()),\n",
    "          line_color=None)\n",
    "p.xaxis.visible = False  # Hide the x-axis\n",
    "p.yaxis.visible = False  # Hide the x-axis\n",
    "# show(p)"
   ]
  },
  {
   "cell_type": "code",
   "execution_count": null,
   "id": "6dcf54a1-2a75-4481-9908-379293c84e8f",
   "metadata": {},
   "outputs": [],
   "source": [
    "output_file(f\"/home/moon/projects/AgoAnalysis/esm2/{name}_coevolution_{model}_color.html\")\n",
    "save(p)"
   ]
  }
 ],
 "metadata": {
  "kernelspec": {
   "display_name": "Python 3 (ipykernel)",
   "language": "python",
   "name": "python3"
  },
  "language_info": {
   "codemirror_mode": {
    "name": "ipython",
    "version": 3
   },
   "file_extension": ".py",
   "mimetype": "text/x-python",
   "name": "python",
   "nbconvert_exporter": "python",
   "pygments_lexer": "ipython3",
   "version": "3.11.7"
  }
 },
 "nbformat": 4,
 "nbformat_minor": 5
}
